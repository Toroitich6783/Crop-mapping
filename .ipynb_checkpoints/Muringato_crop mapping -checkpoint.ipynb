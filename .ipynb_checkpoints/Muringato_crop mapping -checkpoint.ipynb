{
 "cells": [
  {
   "cell_type": "code",
   "execution_count": 1,
   "id": "260c932e",
   "metadata": {},
   "outputs": [],
   "source": [
    "import geemap\n",
    "import ee\n",
    "\n",
    "import collections\n",
    "collections.Callable = collections.abc.Callable\n",
    "import ipywidgets as widgets\n",
    "import geopandas as gdp\n",
    "# from os import path as op\n",
    "# import pickle\n",
    "# import shapely as shp\n",
    "# import geopandas as gdp\n",
    "\n",
    "# import matplotlib.pyplot as plt\n",
    "# import numpy as np\n",
    "# # import rasterio\n",
    "# from rasterio.features import rasterize\n",
    "# from rasterstats.io import bounds_window\n",
    "# import rasterstats\n",
    "# import folium"
   ]
  },
  {
   "cell_type": "code",
   "execution_count": 4,
   "id": "be9e3286",
   "metadata": {},
   "outputs": [],
   "source": [
    "# geemap.ee_search()"
   ]
  },
  {
   "cell_type": "code",
   "execution_count": 5,
   "id": "bf5183e7",
   "metadata": {},
   "outputs": [
    {
     "data": {
      "application/vnd.jupyter.widget-view+json": {
       "model_id": "a4379f308ee34f34bfd55e5344a14dda",
       "version_major": 2,
       "version_minor": 0
      },
      "text/plain": [
       "Map(center=[20, 0], controls=(WidgetControl(options=['position', 'transparent_bg'], widget=HBox(children=(Togg…"
      ]
     },
     "metadata": {},
     "output_type": "display_data"
    }
   ],
   "source": [
    "Map = geemap.Map()\n",
    "Map"
   ]
  },
  {
   "cell_type": "code",
   "execution_count": 3,
   "id": "b8cb8f1c",
   "metadata": {},
   "outputs": [],
   "source": [
    "ee.Initialize()"
   ]
  },
  {
   "cell_type": "code",
   "execution_count": 6,
   "id": "486deb79",
   "metadata": {},
   "outputs": [],
   "source": [
    "muringato= ee.FeatureCollection(\"users/MosongJrn/KSA_Study_Area_Projected0\")\n",
    "Map.addLayer(muringato, {}, \"Muringato\")"
   ]
  },
  {
   "cell_type": "code",
   "execution_count": 7,
   "id": "7453db45",
   "metadata": {
    "scrolled": true
   },
   "outputs": [
    {
     "data": {
      "application/vnd.jupyter.widget-view+json": {
       "model_id": "a4379f308ee34f34bfd55e5344a14dda",
       "version_major": 2,
       "version_minor": 0
      },
      "text/plain": [
       "Map(center=[-9.2399, -62.836], controls=(WidgetControl(options=['position', 'transparent_bg'], widget=HBox(chi…"
      ]
     },
     "metadata": {},
     "output_type": "display_data"
    }
   ],
   "source": [
    "# Input imagery is a cloud-free Landsat 8 composite.\n",
    "muringato= ee.FeatureCollection(\"users/MosongJrn/KSA_Study_Area_Projected0\")\n",
    "Map.addLayer(muringato, {}, \"Muringato\")\n",
    "\n",
    "image = ee.ImageCollection('COPERNICUS/S2').filterDate(\n",
    "    \"2020-07-01\",\"2020-12-31\").filterBounds(muringato).filter(\n",
    "    ee.Filter.lt(\"CLOUDY_PIXEL_PERCENTAGE\",20)).median().select('B2', 'B3', 'B4', 'B5', 'B6', 'B7','B8', 'B10', 'B11').clip(muringato)\n",
    "\n",
    "\n",
    "\n",
    "\n",
    "# Use these bands for prediction.\n",
    "bands = ['B2', 'B3', 'B4', 'B5', 'B6', 'B7', 'B10', 'B11']\n",
    "\n",
    "# Manually created polygons.\n",
    "Non_Cropland1 = ee.Geometry.Point(36.94275266663962, -0.3884751546291304)\n",
    "Non_Cropland2 = ee.Geometry.Point(36.90458200099144, -0.4036249779315391)\n",
    "Non_Cropland3= ee.Geometry.Point(36.91948237639109, -0.4138881265276351)\n",
    "Cropland_Maize1 = ee.Geometry.Point(36.8819971229172, -0.39866329071168627)\n",
    "Cropland_Maize2 = ee.Geometry.Point(36.91575577808622, -0.3953803092671143)\n",
    "Coffee1 = ee.Geometry.Point(36.92179963165548, -0.38693264315308606)\n",
    "Coffee2 = ee.Geometry.Point(36.92991120446425, -0.40682708883133817)\n",
    "Cropland_Napier1 = ee.Geometry.Point(36.911660060957495, -0.40616685702855476)\n",
    "Cropland_Napier2 = ee.Geometry.Point(36.94696519859848, -0.40977020507516243)\n",
    "Cropland_Tea1 = ee.Geometry.Point(36.87774067763692, -0.39924486552846855)\n",
    "Cropland_Tea2 = ee.Geometry.Point(36.892255372811654, -0.4010143767598334)\n",
    "Cropland_banana1 = ee.Geometry.Point(36.91845432096394, -0.41415801662122614)\n",
    "Cropland_Beans1 = ee.Geometry.Point(36.89242215635511, -0.40948936436399036)\n",
    "Cropland_Vegetable = ee.Geometry.Point(36.93376046517262, -0.37724678692916525)\n",
    "Cropland_Potato1 = ee.Geometry.Point(36.8993014472662, -0.40593322572376206)\n",
    "Cropland_Potato2 = ee.Geometry.Point(36.89186760959596, -0.4052798825271803)\n",
    "\n",
    "\n",
    "\n",
    "# Make a FeatureCollection from the hand-made geometries.\n",
    "polygons = ee.FeatureCollection([\n",
    "  ee.Feature(Non_Cropland1, {'class': 0}),\n",
    "  ee.Feature(Non_Cropland2, {'class': 0}),\n",
    "  ee.Feature(Non_Cropland3, {'class': 0}),\n",
    "  ee.Feature(Cropland_Maize1, {'class': 1}),\n",
    "  ee.Feature(Cropland_Maize2, {'class': 1}),\n",
    "  ee.Feature(Coffee1, {'class': 2}),\n",
    "  ee.Feature(Coffee2, {'class': 2}),\n",
    "  ee.Feature(Cropland_Napier1, {'class': 3}),\n",
    "  ee.Feature(Cropland_Napier1, {'class': 3}),\n",
    "  ee.Feature(Cropland_Tea1, {'class': 4}),\n",
    "  ee.Feature(Cropland_Tea2, {'class': 4}),\n",
    "  ee.Feature(Cropland_banana1, {'class': 5}),\n",
    "  ee.Feature(Cropland_Beans1, {'class': 6}),\n",
    "  ee.Feature(Cropland_Vegetable, {'class': 7}),\n",
    "  ee.Feature(Cropland_Potato1, {'class': 8}),\n",
    "  ee.Feature(Cropland_Potato2, {'class': 8}),\n",
    " \n",
    "])\n",
    "\n",
    "\n",
    "# Get the values for all pixels in each polygon in the training.\n",
    "# training_points=nonForest1.merge(nonForest2).merge(forest1).merge(forest2)\n",
    "Bands_selection=[\"B4\",\"B3\",\"B2\"]\n",
    "\n",
    "\n",
    "training = image.sampleRegions(**{\n",
    "  # Get the sample from the polygons FeatureCollection.\n",
    "  'collection': polygons,\n",
    "  # Keep this list of properties from the polygons.\n",
    "  'properties': ['class'],\n",
    "  # Set the scale to get Landsat pixels in the polygons.\n",
    "  'scale': 30\n",
    "})\n",
    "#/SPLITS:Training(75%) & Testing samples(25%).\n",
    "Total_samples=training.randomColumn('random')\n",
    "training_samples=Total_samples.filter(ee.Filter.lessThan('random',0.75))\n",
    "\n",
    "validation_samples=Total_samples.filter(ee.Filter.greaterThanOrEquals('random',0.75))\n",
    "label = 'class'\n",
    "# Train the classifier.\n",
    "# trained = classifier.train(training, 'class', bands)\n",
    "init_params = {\"numberOfTrees\":10, # the number of individual decision tree models\n",
    "              \"variablesPerSplit\":None,  # the number of features to use per split\n",
    "              \"minLeafPopulation\":1, # smallest sample size possible per leaf\n",
    "              \"bagFraction\":0.5, # fraction of data to include for each individual tree model\n",
    "              \"maxNodes\":None, # max number of leafs/nodes per tree\n",
    "               \"seed\":0}  # random seed for \"random\" choices like sampling. Setting this allows others to reproduce your exact results even with stocastic parameters\n",
    "\n",
    "clf = ee.Classifier.smileRandomForest(**init_params).train(training, label, Bands_selection)\n",
    "# Classify the image.\n",
    "classified = image.classify(clf)\n",
    "\n",
    "# Display the classification result and the input image.\n",
    "Map.setCenter(-62.836, -9.2399, 9)\n",
    "Map.addLayer(image, {'bands': ['B4', 'B3', 'B2'], 'max': 0.5, 'gamma': 2})\n",
    "Map.addLayer(polygons, {}, 'training polygons')\n",
    "palette = [\n",
    "  'brown', #Non-cropland(0)\n",
    "  'yellow', #Cropland_Maize(1)\n",
    "  'green',#Cropland_coffee(2)\n",
    "  'black',#Cropland_Napier(3)\n",
    "  'gray', #Cropland_Tea(4)\n",
    "  '#90ee90',#lightgreen(5) Cropland_Banana(5)\n",
    "  'purple',#Beans(6)\n",
    "  'red',#Vegetable(7)\n",
    "  'orange',#potato(8)\n",
    "    ]\n",
    "Map.addLayer(classified,\n",
    "             {'min': 0, 'max': 8, 'palette': palette},\n",
    "             'classification')\n",
    "\n",
    "Map\n",
    "\n",
    "\n",
    "\n"
   ]
  },
  {
   "cell_type": "markdown",
   "id": "c48c17fe",
   "metadata": {},
   "source": [
    "NDVI READINGS AND NDWI READINGS"
   ]
  },
  {
   "cell_type": "code",
   "execution_count": 8,
   "id": "e50b2a6b",
   "metadata": {},
   "outputs": [],
   "source": [
    "NDVI = image.normalizedDifference(['B8', 'B4']).rename(['ndvi'])\n",
    "\n",
    "ndvivis_parametres = {'min':0, 'max':1, 'palette': ['red','brown','yellow', 'green'] }\n",
    "Map.addLayer(NDVI, ndvivis_parametres, 'NDVI')\n",
    "#NDWI\n",
    "NDWI = image.normalizedDifference(['B3', 'B11']).rename(['mndwi'])\n",
    "\n",
    "ndwivis_parametres = {min:-1, max:1, 'palette':  ['blue', 'white', 'green']}\n",
    "Map.addLayer(NDWI, ndwivis_parametres,\"NDWI\")\n"
   ]
  },
  {
   "cell_type": "markdown",
   "id": "f89eab97",
   "metadata": {},
   "source": [
    "CROP AREA IN JSON FILE FORMAT"
   ]
  },
  {
   "cell_type": "code",
   "execution_count": 9,
   "id": "df1104c8",
   "metadata": {
    "scrolled": true
   },
   "outputs": [
    {
     "name": "stdout",
     "output_type": "stream",
     "text": [
      "{'Cropland_Beans1': 1.0327522167217191, 'Cropland_Coffee': 2.6196785987656397, 'Cropland_Maize1': 7.7522055360053805, 'Cropland_Napier': 1.725914119787127, 'Cropland_Potato2': 1.4784676454800494, 'Cropland_Tea': 3.397630034532739, 'Cropland_Vegetable': 2.2220832241730433, 'Cropland_banana': 3.9922220158761044, 'Non_Cropland': 0.7297996287882481}\n"
     ]
    }
   ],
   "source": [
    "names = ['Non_Cropland','Cropland_Maize1','Cropland_Coffee','Cropland_Napier','Cropland_Tea','Cropland_banana',\n",
    "        'Cropland_Beans1','Cropland_Vegetable','Cropland_Potato2']\n",
    "\n",
    "count = classified.eq([0,1,2,3,4,5,6,7,8])\n",
    "total = count.multiply(ee.Image.pixelArea()).divide(1e6).rename(names)\n",
    "\n",
    "area = total.reduceRegion(**{\n",
    "  'reducer': ee.Reducer.sum(),\n",
    "  'geometry': muringato,\n",
    "  'scale': 30,\n",
    "  'maxPixels': 1e9\n",
    "})\n",
    "print(area.getInfo())"
   ]
  },
  {
   "cell_type": "markdown",
   "id": "8593d95a",
   "metadata": {},
   "source": [
    "DISPLAY  GENERAL MAP"
   ]
  },
  {
   "cell_type": "code",
   "execution_count": 10,
   "id": "4f86a8a2",
   "metadata": {},
   "outputs": [
    {
     "data": {
      "application/vnd.jupyter.widget-view+json": {
       "model_id": "a4379f308ee34f34bfd55e5344a14dda",
       "version_major": 2,
       "version_minor": 0
      },
      "text/plain": [
       "Map(center=[-0.3952390277262099, 36.91824938438169], controls=(WidgetControl(options=['position', 'transparent…"
      ]
     },
     "metadata": {},
     "output_type": "display_data"
    }
   ],
   "source": [
    "\n",
    "Map.centerObject(muringato, 13)\n",
    "Map"
   ]
  },
  {
   "cell_type": "code",
   "execution_count": 11,
   "id": "1ac13469",
   "metadata": {},
   "outputs": [
    {
     "name": "stdout",
     "output_type": "stream",
     "text": [
      "Change layer opacity:\n"
     ]
    },
    {
     "data": {
      "application/vnd.jupyter.widget-view+json": {
       "model_id": "58f44ec3f46842cb89ae7fa5872594ee",
       "version_major": 2,
       "version_minor": 0
      },
      "text/plain": [
       "Box(children=(FloatSlider(value=1.0, description='opacity', max=1.0),))"
      ]
     },
     "metadata": {},
     "output_type": "display_data"
    }
   ],
   "source": [
    "#########slider#######\n",
    "print('Change layer opacity:')\n",
    "cluster_layer = Map.layers[-1]\n",
    "cluster_layer.interact(opacity=(0, 1, 0.1))"
   ]
  },
  {
   "cell_type": "code",
   "execution_count": 12,
   "id": "8edeccf3",
   "metadata": {},
   "outputs": [],
   "source": [
    "import pandas as pd\n",
    "import pandas.io.sql as sqlio #With sql query\n",
    "import psycopg2 as ps"
   ]
  },
  {
   "cell_type": "code",
   "execution_count": 21,
   "id": "60acf20f",
   "metadata": {},
   "outputs": [],
   "source": [
    "conn2=ps.connect(dbname=\"KSA\",\n",
    "                 user=\"postgres\",\n",
    "                 password=\"Mosong6783\",\n",
    "                 host=\"localhost\",\n",
    "                 port=\"5432\"\n",
    "                )"
   ]
  },
  {
   "cell_type": "code",
   "execution_count": 22,
   "id": "04f5defb",
   "metadata": {},
   "outputs": [],
   "source": [
    "# conn2.close()"
   ]
  },
  {
   "cell_type": "code",
   "execution_count": 23,
   "id": "41815e4d",
   "metadata": {},
   "outputs": [],
   "source": [
    "# cur = conn2.cursor()"
   ]
  },
  {
   "cell_type": "code",
   "execution_count": 24,
   "id": "338a635e",
   "metadata": {},
   "outputs": [],
   "source": [
    "# cur.execute(\"SELECT* FROM training\")"
   ]
  },
  {
   "cell_type": "code",
   "execution_count": 25,
   "id": "ac16900a",
   "metadata": {},
   "outputs": [],
   "source": [
    "#Its our sql query where fetching of all columns from table *******\n",
    "sql=\"\"\"\n",
    "select*FROM training\"\"\""
   ]
  },
  {
   "cell_type": "code",
   "execution_count": 26,
   "id": "0942d656",
   "metadata": {},
   "outputs": [],
   "source": [
    "# cur.fetchall()"
   ]
  },
  {
   "cell_type": "code",
   "execution_count": 27,
   "id": "35e896cd",
   "metadata": {},
   "outputs": [],
   "source": [
    "df = sqlio.read_sql_query(sql,#its our query\n",
    "                          conn2#provide connection to database\n",
    "                         )"
   ]
  },
  {
   "cell_type": "code",
   "execution_count": 28,
   "id": "d29484e0",
   "metadata": {},
   "outputs": [
    {
     "data": {
      "text/html": [
       "<div>\n",
       "<style scoped>\n",
       "    .dataframe tbody tr th:only-of-type {\n",
       "        vertical-align: middle;\n",
       "    }\n",
       "\n",
       "    .dataframe tbody tr th {\n",
       "        vertical-align: top;\n",
       "    }\n",
       "\n",
       "    .dataframe thead th {\n",
       "        text-align: right;\n",
       "    }\n",
       "</style>\n",
       "<table border=\"1\" class=\"dataframe\">\n",
       "  <thead>\n",
       "    <tr style=\"text-align: right;\">\n",
       "      <th></th>\n",
       "      <th>gid</th>\n",
       "      <th>marker-c</th>\n",
       "      <th>marker-s</th>\n",
       "      <th>marker-s__2</th>\n",
       "      <th>id</th>\n",
       "      <th>name</th>\n",
       "      <th>name</th>\n",
       "      <th>name__6</th>\n",
       "      <th>geom</th>\n",
       "      <th>x-coor</th>\n",
       "      <th>y-coor</th>\n",
       "    </tr>\n",
       "  </thead>\n",
       "  <tbody>\n",
       "    <tr>\n",
       "      <th>0</th>\n",
       "      <td>1</td>\n",
       "      <td>#7e7e7e</td>\n",
       "      <td>medium</td>\n",
       "      <td>0</td>\n",
       "      <td>0.0</td>\n",
       "      <td>kales</td>\n",
       "      <td>0</td>\n",
       "      <td>0</td>\n",
       "      <td>010100000000000000000A44403DA3AE06C2B7EA3F</td>\n",
       "      <td>None</td>\n",
       "      <td>None</td>\n",
       "    </tr>\n",
       "    <tr>\n",
       "      <th>1</th>\n",
       "      <td>2</td>\n",
       "      <td>#7e7e7e</td>\n",
       "      <td>medium</td>\n",
       "      <td>0</td>\n",
       "      <td>2.0</td>\n",
       "      <td>0</td>\n",
       "      <td>Coffee</td>\n",
       "      <td>0</td>\n",
       "      <td>0101000000FFFFFFFFA3FC43403AF56A78CDF5E83F</td>\n",
       "      <td>None</td>\n",
       "      <td>None</td>\n",
       "    </tr>\n",
       "    <tr>\n",
       "      <th>2</th>\n",
       "      <td>3</td>\n",
       "      <td>#7e7e7e</td>\n",
       "      <td>medium</td>\n",
       "      <td>0</td>\n",
       "      <td>3.0</td>\n",
       "      <td>0</td>\n",
       "      <td>Tea</td>\n",
       "      <td>0</td>\n",
       "      <td>0101000000FFFFFFFF1FF94340055D988CC1DFF03F</td>\n",
       "      <td>None</td>\n",
       "      <td>None</td>\n",
       "    </tr>\n",
       "  </tbody>\n",
       "</table>\n",
       "</div>"
      ],
      "text/plain": [
       "   gid marker-c marker-s marker-s__2   id  name     name name__6  \\\n",
       "0    1  #7e7e7e   medium           0  0.0  kales       0       0   \n",
       "1    2  #7e7e7e   medium           0  2.0      0  Coffee       0   \n",
       "2    3  #7e7e7e   medium           0  3.0      0     Tea       0   \n",
       "\n",
       "                                         geom x-coor y-coor  \n",
       "0  010100000000000000000A44403DA3AE06C2B7EA3F   None   None  \n",
       "1  0101000000FFFFFFFFA3FC43403AF56A78CDF5E83F   None   None  \n",
       "2  0101000000FFFFFFFF1FF94340055D988CC1DFF03F   None   None  "
      ]
     },
     "execution_count": 28,
     "metadata": {},
     "output_type": "execute_result"
    }
   ],
   "source": [
    "df.head(3)"
   ]
  },
  {
   "cell_type": "code",
   "execution_count": null,
   "id": "efc4e28d",
   "metadata": {},
   "outputs": [],
   "source": [
    "df.columns"
   ]
  },
  {
   "cell_type": "code",
   "execution_count": null,
   "id": "745f4766",
   "metadata": {},
   "outputs": [],
   "source": [
    "df[\"geom\"]\n"
   ]
  },
  {
   "cell_type": "code",
   "execution_count": null,
   "id": "dee50617",
   "metadata": {},
   "outputs": [],
   "source": [
    "geo1=df[\"geom\"]\n"
   ]
  },
  {
   "cell_type": "code",
   "execution_count": null,
   "id": "f59d5e49",
   "metadata": {},
   "outputs": [],
   "source": [
    "classes = np.unique(training_vectors.name)\n",
    "classes"
   ]
  }
 ],
 "metadata": {
  "kernelspec": {
   "display_name": "Python 3 (ipykernel)",
   "language": "python",
   "name": "python3"
  },
  "language_info": {
   "codemirror_mode": {
    "name": "ipython",
    "version": 3
   },
   "file_extension": ".py",
   "mimetype": "text/x-python",
   "name": "python",
   "nbconvert_exporter": "python",
   "pygments_lexer": "ipython3",
   "version": "3.9.19"
  }
 },
 "nbformat": 4,
 "nbformat_minor": 5
}
